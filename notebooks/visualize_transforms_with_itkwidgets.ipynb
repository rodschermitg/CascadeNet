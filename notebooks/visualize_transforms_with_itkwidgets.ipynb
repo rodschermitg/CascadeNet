{
 "cells": [
  {
   "cell_type": "code",
   "execution_count": 1,
   "metadata": {},
   "outputs": [],
   "source": [
    "import json\n",
    "import os\n",
    "import sys\n",
    "\n",
    "import itkwidgets\n",
    "import monai"
   ]
  },
  {
   "cell_type": "code",
   "execution_count": 2,
   "metadata": {},
   "outputs": [],
   "source": [
    "current_path = os.getcwd()\n",
    "if os.path.basename(current_path) == \"notebooks\":\n",
    "    parent_path = os.path.dirname(current_path)\n",
    "    os.chdir(parent_path)\n",
    "    src_path = os.path.join(parent_path, \"src\")\n",
    "    sys.path.append(src_path)"
   ]
  },
  {
   "cell_type": "code",
   "execution_count": 3,
   "metadata": {},
   "outputs": [],
   "source": [
    "import config\n",
    "from utils import get_patient_name"
   ]
  },
  {
   "cell_type": "code",
   "execution_count": 4,
   "metadata": {},
   "outputs": [],
   "source": [
    "monai.utils.set_determinism(config.RANDOM_STATE)"
   ]
  },
  {
   "cell_type": "code",
   "execution_count": 5,
   "metadata": {},
   "outputs": [],
   "source": [
    "transforms = monai.transforms.Compose([\n",
    "    monai.transforms.LoadImaged(\n",
    "        keys=config.modality_keys_A + config.modality_keys_B + [\"label\"],\n",
    "        # image_only=True,\n",
    "        image_only=False,\n",
    "        ensure_channel_first=True\n",
    "    ),\n",
    "    monai.transforms.ConcatItemsd(\n",
    "        keys=config.modality_keys_A,\n",
    "        name=\"images_A\",\n",
    "        dim=0\n",
    "    ),\n",
    "    monai.transforms.DeleteItemsd(keys=config.modality_keys_A),\n",
    "    monai.transforms.ConcatItemsd(\n",
    "        keys=config.modality_keys_B,\n",
    "        name=\"images_B\",\n",
    "        dim=0\n",
    "    ),\n",
    "    monai.transforms.DeleteItemsd(keys=config.modality_keys_B),\n",
    "    monai.transforms.CropForegroundd(\n",
    "        keys=[\"images_A\", \"images_B\", \"label\"],\n",
    "        source_key=\"images_A\",\n",
    "    ),\n",
    "    monai.transforms.ThresholdIntensityd(\n",
    "        keys=\"label\",\n",
    "        threshold=1,\n",
    "        above=False,\n",
    "        cval=1\n",
    "    ),\n",
    "    monai.transforms.AsDiscreted(keys=\"label\", to_onehot=2),\n",
    "    monai.transforms.Orientationd(\n",
    "        keys=[\"images_A\", \"images_B\", \"label\"],\n",
    "        axcodes=\"SPL\",\n",
    "    ),\n",
    "    monai.transforms.RandAffined(\n",
    "        keys=[\"images_A\", \"images_B\", \"label\"],\n",
    "        # prob=0.1,\n",
    "        prob=1.0,\n",
    "        rotate_range=0.1,\n",
    "        scale_range=0.1,\n",
    "        mode=(\"bilinear\", \"bilinear\", \"nearest\")\n",
    "    ),\n",
    "    monai.transforms.RandCropByPosNegLabeld(\n",
    "        keys=[\"images_A\", \"images_B\", \"label\"],\n",
    "        label_key=\"label\",\n",
    "        spatial_size=config.PATCH_SIZE,\n",
    "        pos=1,\n",
    "        neg=1,\n",
    "        num_samples=1,\n",
    "    ),\n",
    "    # images_A and images_B have different number of channels, which leads to\n",
    "    # an error when processed together by RandGaussianNoised\n",
    "    monai.transforms.RandGaussianNoised(\n",
    "        keys=[\"images_A\"],\n",
    "        # prob=0.1,\n",
    "        prob=1.0,\n",
    "        mean=0.0,\n",
    "        std=0.1\n",
    "    ),\n",
    "    monai.transforms.RandGaussianNoised(\n",
    "        keys=[\"images_B\"],\n",
    "        # prob=0.1,\n",
    "        prob=1.0,\n",
    "        mean=0.0,\n",
    "        std=0.1\n",
    "    ),\n",
    "    monai.transforms.NormalizeIntensityd(\n",
    "        keys=[\"images_A\", \"images_B\"],\n",
    "        channel_wise=True\n",
    "    )\n",
    "])"
   ]
  },
  {
   "cell_type": "code",
   "execution_count": 6,
   "metadata": {},
   "outputs": [],
   "source": [
    "data_path = os.path.join(config.data_dir, config.DATA_FILENAME)\n",
    "with open(data_path, \"r\") as data_file:\n",
    "    data = json.load(data_file)\n",
    "dataset = monai.data.Dataset(data=data[\"train\"], transform=transforms)\n",
    "dataloader = monai.data.DataLoader(dataset, batch_size=1)\n",
    "decode_onehot = monai.transforms.AsDiscrete(argmax=True, keepdim=False)"
   ]
  },
  {
   "cell_type": "markdown",
   "metadata": {},
   "source": [
    "Note: `monai.transforms.RandCropByPosNegLabel` returns a list of patches for each input image/label pair"
   ]
  },
  {
   "cell_type": "code",
   "execution_count": 7,
   "metadata": {},
   "outputs": [
    {
     "name": "stdout",
     "output_type": "stream",
     "text": [
      "Patient-001\n"
     ]
    }
   ],
   "source": [
    "BATCH_IDX = 0\n",
    "CHANNEL_IDX = 0  # 0: ct1, 1: flair, 2: t1, 3: t2\n",
    "\n",
    "for batch_idx_counter, batch in enumerate(dataloader):\n",
    "    if batch_idx_counter == BATCH_IDX:\n",
    "        break\n",
    "\n",
    "num_channels_per_image = batch[\"images_A\"].shape[1] // 2\n",
    "    \n",
    "image_A_1 = batch[\"images_A\"].squeeze(0)[CHANNEL_IDX]\n",
    "image_A_2 = batch[\"images_A\"].squeeze(0)[CHANNEL_IDX+num_channels_per_image]\n",
    "image_B = batch[\"images_B\"].squeeze(0)[CHANNEL_IDX]\n",
    "label_B = decode_onehot(batch[\"label\"].squeeze(0))\n",
    "\n",
    "patient_name = get_patient_name(\n",
    "    batch[\"label_meta_dict\"][\"filename_or_obj\"][0]\n",
    ")\n",
    "print(patient_name)"
   ]
  },
  {
   "cell_type": "code",
   "execution_count": 8,
   "metadata": {},
   "outputs": [
    {
     "data": {
      "application/vnd.jupyter.widget-view+json": {
       "model_id": "4ef745ef87564483b9d5ff5ef706e7b9",
       "version_major": 2,
       "version_minor": 0
      },
      "text/plain": [
       "Viewer(background=(1.0, 1.0, 1.0), geometries=[], gradient_opacity=0.22, point_sets=[], rendered_image=<itk.it…"
      ]
     },
     "metadata": {},
     "output_type": "display_data"
    }
   ],
   "source": [
    "itkwidgets.view(\n",
    "    image=image_A_1,\n",
    "    background=(1.0, 1.0, 1.0)\n",
    ")"
   ]
  },
  {
   "cell_type": "code",
   "execution_count": 9,
   "metadata": {},
   "outputs": [
    {
     "data": {
      "application/vnd.jupyter.widget-view+json": {
       "model_id": "57dd3767a5264de399aa6a6dc9df1465",
       "version_major": 2,
       "version_minor": 0
      },
      "text/plain": [
       "Viewer(background=(1.0, 1.0, 1.0), geometries=[], gradient_opacity=0.22, point_sets=[], rendered_image=<itk.it…"
      ]
     },
     "metadata": {},
     "output_type": "display_data"
    }
   ],
   "source": [
    "itkwidgets.view(\n",
    "    image=image_A_2,\n",
    "    background=(1.0, 1.0, 1.0)\n",
    ")"
   ]
  },
  {
   "cell_type": "code",
   "execution_count": 10,
   "metadata": {},
   "outputs": [
    {
     "data": {
      "application/vnd.jupyter.widget-view+json": {
       "model_id": "dabe844a07954e4e8bfad69a0f7d0dc4",
       "version_major": 2,
       "version_minor": 0
      },
      "text/plain": [
       "Viewer(background=(1.0, 1.0, 1.0), geometries=[], gradient_opacity=0.22, interpolation=False, point_sets=[], r…"
      ]
     },
     "metadata": {},
     "output_type": "display_data"
    }
   ],
   "source": [
    "itkwidgets.view(\n",
    "    image=image_B,\n",
    "    label_image=label_B,\n",
    "    background=(1.0, 1.0, 1.0)\n",
    ")"
   ]
  }
 ],
 "metadata": {
  "kernelspec": {
   "display_name": "Python 3 (ipykernel)",
   "language": "python",
   "name": "python3"
  },
  "language_info": {
   "codemirror_mode": {
    "name": "ipython",
    "version": 3
   },
   "file_extension": ".py",
   "mimetype": "text/x-python",
   "name": "python",
   "nbconvert_exporter": "python",
   "pygments_lexer": "ipython3",
   "version": "3.10.12"
  }
 },
 "nbformat": 4,
 "nbformat_minor": 2
}
