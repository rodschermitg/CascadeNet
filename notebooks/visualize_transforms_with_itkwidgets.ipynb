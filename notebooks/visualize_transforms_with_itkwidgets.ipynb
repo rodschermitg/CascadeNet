{
 "cells": [
  {
   "cell_type": "code",
   "execution_count": 1,
   "metadata": {},
   "outputs": [],
   "source": [
    "import json\n",
    "import os\n",
    "import sys\n",
    "\n",
    "import itkwidgets\n",
    "import monai\n",
    "import torch"
   ]
  },
  {
   "cell_type": "code",
   "execution_count": 2,
   "metadata": {},
   "outputs": [],
   "source": [
    "current_path = os.getcwd()\n",
    "if os.path.basename(current_path) == \"notebooks\":\n",
    "    parent_path = os.path.dirname(current_path)\n",
    "    os.chdir(parent_path)\n",
    "    src_path = os.path.join(parent_path, \"src\")\n",
    "    sys.path.append(src_path)"
   ]
  },
  {
   "cell_type": "code",
   "execution_count": 3,
   "metadata": {},
   "outputs": [],
   "source": [
    "import config\n",
    "import transforms\n",
    "import utils"
   ]
  },
  {
   "cell_type": "code",
   "execution_count": 4,
   "metadata": {},
   "outputs": [],
   "source": [
    "monai.utils.set_determinism(config.RANDOM_STATE)"
   ]
  },
  {
   "cell_type": "markdown",
   "metadata": {},
   "source": [
    "set prob = 1.0 for all non-deterministic transforms to visualize"
   ]
  },
  {
   "cell_type": "code",
   "execution_count": 5,
   "metadata": {},
   "outputs": [],
   "source": [
    "base_transforms = transforms.transforms_dict[\"base_model\"][\"base_transforms\"]\n",
    "train_transforms = transforms.transforms_dict[\"base_model\"][\"train_transforms\"]\n",
    "for transform in train_transforms.transforms:\n",
    "    if hasattr(transform, \"prob\"):\n",
    "        transform.prob = 1.0"
   ]
  },
  {
   "cell_type": "code",
   "execution_count": 6,
   "metadata": {},
   "outputs": [],
   "source": [
    "data_path = os.path.join(config.data_dir, config.DATA_FILENAME)\n",
    "with open(data_path, \"r\") as data_file:\n",
    "    data = json.load(data_file)\n",
    "dataset = monai.data.Dataset(\n",
    "    data[\"train\"],\n",
    "    monai.transforms.Compose([\n",
    "        base_transforms,\n",
    "        train_transforms\n",
    "    ])\n",
    ")"
   ]
  },
  {
   "cell_type": "markdown",
   "metadata": {},
   "source": [
    "Note: `monai.transforms.RandCropByPosNegLabel` returns a list of patches for each input img/seg pair"
   ]
  },
  {
   "cell_type": "code",
   "execution_count": 7,
   "metadata": {},
   "outputs": [
    {
     "name": "stdout",
     "output_type": "stream",
     "text": [
      "\n"
     ]
    }
   ],
   "source": [
    "DATA_POINT_IDX = 0\n",
    "CHANNEL_IDX = 0  # 0: ct1, 1: flair, 2: t1, 3: t2\n",
    "\n",
    "data_point = dataset[DATA_POINT_IDX][0]\n",
    "img_A = data_point[\"img_AB\"][CHANNEL_IDX]\n",
    "img_B = data_point[\"img_AB\"][CHANNEL_IDX+config.num_sequences]\n",
    "seg = data_point[\"seg_C\"]\n",
    "seg = torch.argmax(seg, dim=0)\n",
    "\n",
    "patient_name = utils.get_patient_name(\n",
    "    data_point[\"seg_C_meta_dict\"][\"filename_or_obj\"][0]\n",
    ")\n",
    "print(patient_name)"
   ]
  },
  {
   "cell_type": "code",
   "execution_count": 8,
   "metadata": {},
   "outputs": [
    {
     "data": {
      "application/vnd.jupyter.widget-view+json": {
       "model_id": "9e8c56fb28ec4cd0a2922b71730cd114",
       "version_major": 2,
       "version_minor": 0
      },
      "text/plain": [
       "Viewer(background=(1.0, 1.0, 1.0), geometries=[], gradient_opacity=0.22, point_sets=[], rendered_image=<itk.it…"
      ]
     },
     "metadata": {},
     "output_type": "display_data"
    }
   ],
   "source": [
    "itkwidgets.view(img_A, background=(1.0, 1.0, 1.0))"
   ]
  },
  {
   "cell_type": "code",
   "execution_count": 9,
   "metadata": {},
   "outputs": [
    {
     "data": {
      "application/vnd.jupyter.widget-view+json": {
       "model_id": "9eef4f187fe74748be712c95abfad5d2",
       "version_major": 2,
       "version_minor": 0
      },
      "text/plain": [
       "Viewer(background=(1.0, 1.0, 1.0), geometries=[], gradient_opacity=0.22, point_sets=[], rendered_image=<itk.it…"
      ]
     },
     "metadata": {},
     "output_type": "display_data"
    }
   ],
   "source": [
    "itkwidgets.view(img_B, background=(1.0, 1.0, 1.0))"
   ]
  },
  {
   "cell_type": "code",
   "execution_count": 10,
   "metadata": {},
   "outputs": [
    {
     "data": {
      "application/vnd.jupyter.widget-view+json": {
       "model_id": "dededaf8b3f84343ada4c88107dabeec",
       "version_major": 2,
       "version_minor": 0
      },
      "text/plain": [
       "Viewer(background=(1.0, 1.0, 1.0), geometries=[], gradient_opacity=0.22, point_sets=[], rendered_image=<itk.it…"
      ]
     },
     "metadata": {},
     "output_type": "display_data"
    }
   ],
   "source": [
    "itkwidgets.view(seg, background=(1.0, 1.0, 1.0))"
   ]
  }
 ],
 "metadata": {
  "kernelspec": {
   "display_name": "Python 3 (ipykernel)",
   "language": "python",
   "name": "python3"
  },
  "language_info": {
   "codemirror_mode": {
    "name": "ipython",
    "version": 3
   },
   "file_extension": ".py",
   "mimetype": "text/x-python",
   "name": "python",
   "nbconvert_exporter": "python",
   "pygments_lexer": "ipython3",
   "version": "3.10.12"
  }
 },
 "nbformat": 4,
 "nbformat_minor": 2
}
