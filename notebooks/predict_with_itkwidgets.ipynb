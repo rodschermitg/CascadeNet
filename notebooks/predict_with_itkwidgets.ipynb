{
 "cells": [
  {
   "cell_type": "code",
   "execution_count": 1,
   "metadata": {},
   "outputs": [],
   "source": [
    "import json\n",
    "import os\n",
    "import sys\n",
    "\n",
    "import itkwidgets\n",
    "import monai\n",
    "import torch"
   ]
  },
  {
   "cell_type": "code",
   "execution_count": 2,
   "metadata": {},
   "outputs": [],
   "source": [
    "current_path = os.getcwd()\n",
    "if os.path.basename(current_path) == \"notebooks\":\n",
    "    parent_path = os.path.dirname(current_path)\n",
    "    os.chdir(parent_path)\n",
    "    src_path = os.path.join(parent_path, \"src\")\n",
    "    sys.path.append(src_path)"
   ]
  },
  {
   "cell_type": "code",
   "execution_count": 3,
   "metadata": {},
   "outputs": [],
   "source": [
    "import config_base_model as config\n",
    "import models\n",
    "import utils"
   ]
  },
  {
   "cell_type": "code",
   "execution_count": 4,
   "metadata": {},
   "outputs": [],
   "source": [
    "monai.utils.set_determinism(config.RANDOM_STATE)"
   ]
  },
  {
   "cell_type": "code",
   "execution_count": 5,
   "metadata": {},
   "outputs": [
    {
     "name": "stdout",
     "output_type": "stream",
     "text": [
      "Using cuda device\n"
     ]
    }
   ],
   "source": [
    "device = torch.device(\"cuda\" if torch.cuda.is_available() else \"cpu\")\n",
    "num_workers = 4 if device.type == \"cuda\" else 0\n",
    "pin_memory = True if device.type == \"cuda\" else False\n",
    "print(f\"Using {device} device\")"
   ]
  },
  {
   "cell_type": "code",
   "execution_count": 6,
   "metadata": {},
   "outputs": [],
   "source": [
    "model_list = []\n",
    "for fold in range(config.FOLDS):\n",
    "    checkpoint_path = os.path.join(\n",
    "        config.checkpoint_dir,\n",
    "        f\"{config.MODEL_NAME}_fold{fold}.tar\"\n",
    "    )\n",
    "    checkpoint = torch.load(checkpoint_path, map_location=device)\n",
    "    model = models.ProbabilisticSegmentationNet(\n",
    "        **config.MODEL_KWARGS_AB2C\n",
    "    ).to(device)\n",
    "    model.load_state_dict(checkpoint[\"net_AB2C_state_dict\"])\n",
    "    model.eval()\n",
    "    model_list.append(model)"
   ]
  },
  {
   "cell_type": "code",
   "execution_count": 7,
   "metadata": {},
   "outputs": [
    {
     "name": "stdout",
     "output_type": "stream",
     "text": [
      "Using 8 test samples\n"
     ]
    }
   ],
   "source": [
    "data_path = os.path.join(config.data_dir, config.DATA_FILENAME)\n",
    "with open(data_path, \"r\") as data_file:\n",
    "    data = json.load(data_file)\n",
    "dataset = monai.data.Dataset(\n",
    "    data[\"test\"],\n",
    "    monai.transforms.Compose([\n",
    "        config.base_transforms,\n",
    "        config.eval_transforms\n",
    "    ])\n",
    ")\n",
    "print(f\"Using {len(dataset)} test samples\")\n",
    "\n",
    "dataloader = monai.data.DataLoader(\n",
    "    dataset,\n",
    "    batch_size=1,\n",
    "    num_workers=num_workers,\n",
    "    pin_memory=pin_memory\n",
    ")"
   ]
  },
  {
   "cell_type": "code",
   "execution_count": 8,
   "metadata": {
    "scrolled": true
   },
   "outputs": [
    {
     "name": "stdout",
     "output_type": "stream",
     "text": [
      "Patient-006\n"
     ]
    }
   ],
   "source": [
    "BATCH_IDX = 0\n",
    "\n",
    "for batch_idx_counter, batch in enumerate(dataloader):\n",
    "    if batch_idx_counter == BATCH_IDX:\n",
    "        break\n",
    "\n",
    "imgs = batch[\"imgs_AB\"].to(device)\n",
    "seg = batch[\"seg_C\"]\n",
    "seg = torch.argmax(seg, dim=1).squeeze(0)\n",
    "\n",
    "patient_name = utils.get_patient_name(\n",
    "    batch[\"seg_C_meta_dict\"][\"filename_or_obj\"][0]\n",
    ")\n",
    "print(patient_name)"
   ]
  },
  {
   "cell_type": "code",
   "execution_count": 9,
   "metadata": {},
   "outputs": [],
   "source": [
    "with torch.no_grad():\n",
    "    with torch.cuda.amp.autocast():\n",
    "        preds = [\n",
    "            monai.inferers.sliding_window_inference(\n",
    "                imgs,\n",
    "                roi_size=config.PATCH_SIZE,\n",
    "                sw_batch_size=config.BATCH_SIZE,\n",
    "                predictor=model\n",
    "            )\n",
    "            for model in model_list\n",
    "        ]\n",
    "preds = [torch.nn.functional.softmax(pred, dim=1) for pred in preds]\n",
    "preds = torch.cat(preds, dim=0)\n",
    "pred = torch.mean(preds, dim=0, keepdim=True)\n",
    "pred = torch.argmax(pred, dim=1).squeeze(0).cpu()"
   ]
  },
  {
   "cell_type": "code",
   "execution_count": 10,
   "metadata": {},
   "outputs": [
    {
     "data": {
      "application/vnd.jupyter.widget-view+json": {
       "model_id": "1f4fa5f369fb4e2ca6382452a05722bf",
       "version_major": 2,
       "version_minor": 0
      },
      "text/plain": [
       "AppLayout(children=(HBox(children=(Label(value='Link:'), Checkbox(value=False, description='cmap'), Checkbox(v…"
      ]
     },
     "metadata": {},
     "output_type": "display_data"
    }
   ],
   "source": [
    "itkwidgets.compare(\n",
    "    pred,\n",
    "    seg,\n",
    "    background=(1.0, 1.0, 1.0)\n",
    ")"
   ]
  },
  {
   "cell_type": "code",
   "execution_count": 11,
   "metadata": {},
   "outputs": [
    {
     "data": {
      "application/vnd.jupyter.widget-view+json": {
       "model_id": "cb90b7ef20a3455ab067365b654a2b02",
       "version_major": 2,
       "version_minor": 0
      },
      "text/plain": [
       "Viewer(background=(1.0, 1.0, 1.0), geometries=[], gradient_opacity=0.22, interpolation=False, point_sets=[], r…"
      ]
     },
     "metadata": {},
     "output_type": "display_data"
    }
   ],
   "source": [
    "itkwidgets.view(\n",
    "    pred,\n",
    "    seg,\n",
    "    background=(1.0, 1.0, 1.0)\n",
    ")"
   ]
  }
 ],
 "metadata": {
  "kernelspec": {
   "display_name": "Python 3 (ipykernel)",
   "language": "python",
   "name": "python3"
  },
  "language_info": {
   "codemirror_mode": {
    "name": "ipython",
    "version": 3
   },
   "file_extension": ".py",
   "mimetype": "text/x-python",
   "name": "python",
   "nbconvert_exporter": "python",
   "pygments_lexer": "ipython3",
   "version": "3.10.12"
  }
 },
 "nbformat": 4,
 "nbformat_minor": 2
}
