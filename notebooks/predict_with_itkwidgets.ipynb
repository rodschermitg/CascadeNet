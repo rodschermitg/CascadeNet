{
 "cells": [
  {
   "cell_type": "code",
   "execution_count": 1,
   "metadata": {},
   "outputs": [],
   "source": [
    "import json\n",
    "import os\n",
    "import sys\n",
    "\n",
    "import itkwidgets\n",
    "import monai\n",
    "import torch"
   ]
  },
  {
   "cell_type": "code",
   "execution_count": 2,
   "metadata": {},
   "outputs": [],
   "source": [
    "current_path = os.getcwd()\n",
    "if os.path.basename(current_path) == \"notebooks\":\n",
    "    parent_path = os.path.dirname(current_path)\n",
    "    os.chdir(parent_path)\n",
    "    src_path = os.path.join(parent_path, \"src\")\n",
    "    sys.path.append(src_path)"
   ]
  },
  {
   "cell_type": "code",
   "execution_count": 3,
   "metadata": {},
   "outputs": [],
   "source": [
    "import config\n",
    "import models\n",
    "import transforms\n",
    "import utils"
   ]
  },
  {
   "cell_type": "code",
   "execution_count": 4,
   "metadata": {},
   "outputs": [
    {
     "name": "stdout",
     "output_type": "stream",
     "text": [
      "Current task: with_seg_AB\n"
     ]
    }
   ],
   "source": [
    "monai.utils.set_determinism(config.RANDOM_STATE)\n",
    "print(f\"Current task: {config.TASK}\")"
   ]
  },
  {
   "cell_type": "code",
   "execution_count": 5,
   "metadata": {},
   "outputs": [
    {
     "name": "stdout",
     "output_type": "stream",
     "text": [
      "Using cuda device\n"
     ]
    }
   ],
   "source": [
    "device = torch.device(\"cuda\" if torch.cuda.is_available() else \"cpu\")\n",
    "num_workers = 4 if device.type == \"cuda\" else 0\n",
    "pin_memory = True if device.type == \"cuda\" else False\n",
    "print(f\"Using {device} device\")"
   ]
  },
  {
   "cell_type": "code",
   "execution_count": 6,
   "metadata": {},
   "outputs": [],
   "source": [
    "model_list = []\n",
    "for fold in range(config.FOLDS):\n",
    "    checkpoint_path = os.path.join(\n",
    "        config.checkpoint_dir,\n",
    "        f\"{config.MODEL_NAME}_fold{fold}.tar\"\n",
    "    )\n",
    "    checkpoint = torch.load(checkpoint_path, map_location=device)\n",
    "    model = models.ProbabilisticSegmentationNet(\n",
    "        **config.NET_AB2C_KWARGS_DICT[config.TASK]\n",
    "    ).to(device)\n",
    "    model.load_state_dict(checkpoint[\"net_AB2C_state_dict\"])\n",
    "    model.eval()\n",
    "    model_list.append(model)"
   ]
  },
  {
   "cell_type": "code",
   "execution_count": 7,
   "metadata": {},
   "outputs": [],
   "source": [
    "data_path = os.path.join(config.data_dir, config.DATA_FILENAME)\n",
    "with open(data_path, \"r\") as data_file:\n",
    "    data = json.load(data_file)\n",
    "dataset = monai.data.Dataset(\n",
    "    data[\"test\"],\n",
    "    monai.transforms.Compose([\n",
    "        *transforms.transforms_dict[config.TASK][\"base_transforms\"].transforms,\n",
    "        *transforms.transforms_dict[config.TASK][\"eval_transforms\"].transforms\n",
    "    ])\n",
    ")"
   ]
  },
  {
   "cell_type": "code",
   "execution_count": 8,
   "metadata": {
    "scrolled": true
   },
   "outputs": [
    {
     "name": "stdout",
     "output_type": "stream",
     "text": [
      "\n"
     ]
    }
   ],
   "source": [
    "DATA_POINT_IDX = 0\n",
    "\n",
    "data_point = dataset[DATA_POINT_IDX]\n",
    "input = data_point[config.INPUT_DICT[config.TASK]][None].to(device)\n",
    "seg = data_point[\"seg_C\"]\n",
    "seg = torch.argmax(seg, dim=0)\n",
    "\n",
    "patient_name = utils.get_patient_name(\n",
    "    data_point[\"seg_C_meta_dict\"][\"filename_or_obj\"][0]\n",
    ")\n",
    "print(patient_name)"
   ]
  },
  {
   "cell_type": "code",
   "execution_count": 9,
   "metadata": {},
   "outputs": [],
   "source": [
    "with torch.no_grad():\n",
    "    with torch.cuda.amp.autocast():\n",
    "        preds = [\n",
    "            monai.inferers.sliding_window_inference(\n",
    "                input,\n",
    "                roi_size=config.PATCH_SIZE,\n",
    "                sw_batch_size=config.BATCH_SIZE,\n",
    "                predictor=model\n",
    "            )\n",
    "            for model in model_list\n",
    "        ]\n",
    "preds = [torch.nn.functional.softmax(pred, dim=1) for pred in preds]\n",
    "preds = torch.cat(preds, dim=0)\n",
    "pred = torch.mean(preds, dim=0)\n",
    "pred = torch.argmax(pred, dim=0).cpu()"
   ]
  },
  {
   "cell_type": "code",
   "execution_count": 10,
   "metadata": {},
   "outputs": [
    {
     "data": {
      "application/vnd.jupyter.widget-view+json": {
       "model_id": "0458ed7dcef14d1c9404aa4e8e9185c3",
       "version_major": 2,
       "version_minor": 0
      },
      "text/plain": [
       "AppLayout(children=(HBox(children=(Label(value='Link:'), Checkbox(value=False, description='cmap'), Checkbox(v…"
      ]
     },
     "metadata": {},
     "output_type": "display_data"
    }
   ],
   "source": [
    "itkwidgets.compare(pred, seg, background=(1.0, 1.0, 1.0))"
   ]
  },
  {
   "cell_type": "code",
   "execution_count": 11,
   "metadata": {},
   "outputs": [
    {
     "data": {
      "application/vnd.jupyter.widget-view+json": {
       "model_id": "5b98261820ac4634b7e0e839d219bfbf",
       "version_major": 2,
       "version_minor": 0
      },
      "text/plain": [
       "Viewer(background=(1.0, 1.0, 1.0), geometries=[], gradient_opacity=0.22, interpolation=False, point_sets=[], r…"
      ]
     },
     "metadata": {},
     "output_type": "display_data"
    }
   ],
   "source": [
    "itkwidgets.view(pred, seg, background=(1.0, 1.0, 1.0))"
   ]
  }
 ],
 "metadata": {
  "kernelspec": {
   "display_name": "Python 3 (ipykernel)",
   "language": "python",
   "name": "python3"
  },
  "language_info": {
   "codemirror_mode": {
    "name": "ipython",
    "version": 3
   },
   "file_extension": ".py",
   "mimetype": "text/x-python",
   "name": "python",
   "nbconvert_exporter": "python",
   "pygments_lexer": "ipython3",
   "version": "3.10.12"
  }
 },
 "nbformat": 4,
 "nbformat_minor": 2
}
