{
 "cells": [
  {
   "cell_type": "code",
   "execution_count": 1,
   "metadata": {},
   "outputs": [],
   "source": [
    "import json\n",
    "import os\n",
    "import sys\n",
    "\n",
    "import itkwidgets\n",
    "import monai\n",
    "import torch"
   ]
  },
  {
   "cell_type": "code",
   "execution_count": 2,
   "metadata": {},
   "outputs": [],
   "source": [
    "current_path = os.getcwd()\n",
    "if os.path.basename(current_path) == \"notebooks\":\n",
    "    parent_path = os.path.dirname(current_path)\n",
    "    os.chdir(parent_path)\n",
    "    src_path = os.path.join(parent_path, \"src\")\n",
    "    sys.path.append(src_path)"
   ]
  },
  {
   "cell_type": "code",
   "execution_count": 3,
   "metadata": {},
   "outputs": [],
   "source": [
    "import config\n",
    "from probabilistic_unet.model import ProbabilisticUnet\n",
    "import utils"
   ]
  },
  {
   "cell_type": "code",
   "execution_count": 4,
   "metadata": {},
   "outputs": [],
   "source": [
    "device = torch.device(\"cuda\" if torch.cuda.is_available() else \"cpu\")\n",
    "num_workers = 4 if device.type == \"cuda\" else 0\n",
    "pin_memory = True if device.type == \"cuda\" else False\n",
    "sw_batch_size = 4 if device.type == \"cuda\" else 1\n",
    "print(f\"Using {device} device\")"
   ]
  },
  {
   "cell_type": "code",
   "execution_count": null,
   "metadata": {},
   "outputs": [
    {
     "data": {
      "text/plain": [
       "<All keys matched successfully>"
      ]
     },
     "execution_count": 5,
     "metadata": {},
     "output_type": "execute_result"
    }
   ],
   "source": [
    "checkpoint_list = [\n",
    "    torch.load(\n",
    "        os.path.join(config.model_dir, f\"{config.MODEL_NAME}_fold{fold}.tar\"),\n",
    "        map_location=device\n",
    "    )\n",
    "    for fold in range(config.FOLDS)\n",
    "]\n",
    "model_list = [\n",
    "    ProbabilisticUnet(**config.MODEL_KWARGS_A2B).to(device)\n",
    "    for _ in range(config.FOLDS)\n",
    "]\n",
    "for model, checkpoint in zip(model_list, checkpoint_list):\n",
    "    model.load_state_dict(checkpoint[\"net_A2B_state_dict\"])\n",
    "    model.eval()"
   ]
  },
  {
   "cell_type": "code",
   "execution_count": null,
   "metadata": {},
   "outputs": [
    {
     "name": "stdout",
     "output_type": "stream",
     "text": [
      "Using 8 test samples\n"
     ]
    }
   ],
   "source": [
    "data_path = os.path.join(config.data_dir, config.DATA_FILENAME)\n",
    "with open(data_path, \"r\") as data_file:\n",
    "    data = json.load(data_file)\n",
    "dataset = monai.data.Dataset(\n",
    "    data=data[\"test\"],\n",
    "    transform=monai.transforms.Compose([\n",
    "        config.base_transforms,\n",
    "        config.eval_transforms\n",
    "    ])\n",
    ")\n",
    "print(f\"Using {len(dataset)} test samples\")\n",
    "\n",
    "dataloader = monai.data.DataLoader(\n",
    "    dataset=dataset,\n",
    "    batch_size=1,\n",
    "    num_workers=num_workers,\n",
    "    pin_memory=pin_memory\n",
    ")"
   ]
  },
  {
   "cell_type": "code",
   "execution_count": null,
   "metadata": {
    "scrolled": true
   },
   "outputs": [
    {
     "name": "stdout",
     "output_type": "stream",
     "text": [
      "Patient-006\n"
     ]
    }
   ],
   "source": [
    "BATCH_IDX = 0\n",
    "\n",
    "for batch_idx_counter, batch in enumerate(dataloader):\n",
    "    if batch_idx_counter == BATCH_IDX:\n",
    "        break\n",
    "\n",
    "images = batch[\"images_A\"].to(device)\n",
    "label = batch[\"label\"]\n",
    "label = torch.argmax(label, dim=1).squeeze(0)  # decode one-hot labels\n",
    "patient_name = utils.get_patient_name(\n",
    "    batch[\"label_meta_dict\"][\"filename_or_obj\"][0]\n",
    ")\n",
    "print(patient_name)"
   ]
  },
  {
   "cell_type": "code",
   "execution_count": null,
   "metadata": {},
   "outputs": [],
   "source": [
    "with torch.no_grad():\n",
    "    with torch.cuda.amp.autocast():\n",
    "        preds = [\n",
    "            monai.inferers.sliding_window_inference(\n",
    "                inputs=images,\n",
    "                roi_size=config.PATCH_SIZE,\n",
    "                sw_batch_size=config.BATCH_SIZE,\n",
    "                predictor=model\n",
    "            )\n",
    "            for model in model_list\n",
    "        ]\n",
    "preds = torch.cat(preds, dim=0)\n",
    "pred = torch.mean(preds, dim=0, keepdim=True)\n",
    "pred = torch.argmax(pred, dim=1).squeeze(0).cpu()"
   ]
  },
  {
   "cell_type": "code",
   "execution_count": null,
   "metadata": {},
   "outputs": [
    {
     "data": {
      "application/vnd.jupyter.widget-view+json": {
       "model_id": "604bc1118a744b1d8a28f9f647484785",
       "version_major": 2,
       "version_minor": 0
      },
      "text/plain": [
       "AppLayout(children=(HBox(children=(Label(value='Link:'), Checkbox(value=False, description='cmap'), Checkbox(v…"
      ]
     },
     "metadata": {},
     "output_type": "display_data"
    }
   ],
   "source": [
    "itkwidgets.compare(\n",
    "    pred,\n",
    "    label,\n",
    "    background=(1.0, 1.0, 1.0)\n",
    ")"
   ]
  },
  {
   "cell_type": "code",
   "execution_count": null,
   "metadata": {},
   "outputs": [
    {
     "data": {
      "application/vnd.jupyter.widget-view+json": {
       "model_id": "8d73e239b8974afeaa515be36895485a",
       "version_major": 2,
       "version_minor": 0
      },
      "text/plain": [
       "Viewer(background=(1.0, 1.0, 1.0), geometries=[], gradient_opacity=0.22, interpolation=False, point_sets=[], r…"
      ]
     },
     "metadata": {},
     "output_type": "display_data"
    }
   ],
   "source": [
    "itkwidgets.view(\n",
    "    image=pred,\n",
    "    label_image=label,\n",
    "    background=(1.0, 1.0, 1.0)\n",
    ")"
   ]
  }
 ],
 "metadata": {
  "kernelspec": {
   "display_name": "Python 3 (ipykernel)",
   "language": "python",
   "name": "python3"
  },
  "language_info": {
   "codemirror_mode": {
    "name": "ipython",
    "version": 3
   },
   "file_extension": ".py",
   "mimetype": "text/x-python",
   "name": "python",
   "nbconvert_exporter": "python",
   "pygments_lexer": "ipython3",
   "version": "3.10.12"
  }
 },
 "nbformat": 4,
 "nbformat_minor": 2
}
